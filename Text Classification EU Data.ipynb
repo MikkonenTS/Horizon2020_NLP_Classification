{
 "cells": [
  {
   "cell_type": "markdown",
   "metadata": {},
   "source": [
    "# Text classification with EU CORDIS Dataset"
   ]
  },
  {
   "cell_type": "markdown",
   "metadata": {},
   "source": [
    "This Notebook presents an NLP classification problem with three different classifiers:\n",
    "- Regex\n",
    "- FastText\n",
    "- Latent Semantic Indexing (with a K-Nearest Neighbor classifier)\n",
    "\n",
    "This Notebook consists of data gathering and preprocessing operations, followed by building all three models. The last part is about evaulation of the models"
   ]
  },
  {
   "cell_type": "markdown",
   "metadata": {},
   "source": [
    "## Discover, access, distill"
   ]
  },
  {
   "cell_type": "markdown",
   "metadata": {},
   "source": [
    "First we import all the required libraries"
   ]
  },
  {
   "cell_type": "code",
   "execution_count": 2,
   "metadata": {},
   "outputs": [],
   "source": [
    "import pandas as pd\n",
    "import numpy as np\n",
    "import re\n",
    "import fasttext as ft\n",
    "import gensim\n",
    "from sklearn.model_selection import train_test_split\n",
    "import logging\n",
    "from gensim import models\n",
    "from gensim import corpora\n",
    "from collections import defaultdict\n",
    "from sklearn.neighbors import KNeighborsClassifier\n",
    "logging.basicConfig(format='%(asctime)s : %(levelname)s : %(message)s', level=logging.INFO)\n",
    "import sklearn.metrics as metrics\n",
    "from sklearn.metrics import precision_recall_curve\n",
    "import matplotlib.pyplot as plt"
   ]
  },
  {
   "cell_type": "markdown",
   "metadata": {},
   "source": [
    "This example is made by using open EU research project data. The class we want to predict is ICT/IT-related projects. Labeling the data is made by manually choosing categories by using CORDIS Horizon2020 keyword list and picking all ICT-related topics by their keywords. Not the most scientific method, but good enough approximation with limited resources. We give all the positive classes label code 1 and all the negative classes a label code 0. Data is the concatenated into a single dataframe"
   ]
  },
  {
   "cell_type": "code",
   "execution_count": 8,
   "metadata": {},
   "outputs": [
    {
     "data": {
      "text/html": [
       "<div>\n",
       "<style scoped>\n",
       "    .dataframe tbody tr th:only-of-type {\n",
       "        vertical-align: middle;\n",
       "    }\n",
       "\n",
       "    .dataframe tbody tr th {\n",
       "        vertical-align: top;\n",
       "    }\n",
       "\n",
       "    .dataframe thead th {\n",
       "        text-align: right;\n",
       "    }\n",
       "</style>\n",
       "<table border=\"1\" class=\"dataframe\">\n",
       "  <thead>\n",
       "    <tr style=\"text-align: right;\">\n",
       "      <th></th>\n",
       "      <th>code</th>\n",
       "      <th>topicKeywordTitle</th>\n",
       "      <th>Column1</th>\n",
       "    </tr>\n",
       "  </thead>\n",
       "  <tbody>\n",
       "    <tr>\n",
       "      <th>0</th>\n",
       "      <td>IoT-03-2017</td>\n",
       "      <td>Advanced computing</td>\n",
       "      <td>x</td>\n",
       "    </tr>\n",
       "    <tr>\n",
       "      <th>1</th>\n",
       "      <td>IoT-02-2016</td>\n",
       "      <td>Advanced computing</td>\n",
       "      <td>x</td>\n",
       "    </tr>\n",
       "    <tr>\n",
       "      <th>2</th>\n",
       "      <td>IoT-01-2016</td>\n",
       "      <td>Advanced computing</td>\n",
       "      <td>x</td>\n",
       "    </tr>\n",
       "    <tr>\n",
       "      <th>3</th>\n",
       "      <td>ICT-30-2015</td>\n",
       "      <td>Advanced computing</td>\n",
       "      <td>x</td>\n",
       "    </tr>\n",
       "    <tr>\n",
       "      <th>4</th>\n",
       "      <td>ICT-11-2017</td>\n",
       "      <td>Advanced computing</td>\n",
       "      <td>x</td>\n",
       "    </tr>\n",
       "  </tbody>\n",
       "</table>\n",
       "</div>"
      ],
      "text/plain": [
       "          code   topicKeywordTitle Column1\n",
       "0  IoT-03-2017  Advanced computing       x\n",
       "1  IoT-02-2016  Advanced computing       x\n",
       "2  IoT-01-2016  Advanced computing       x\n",
       "3  ICT-30-2015  Advanced computing       x\n",
       "4  ICT-11-2017  Advanced computing       x"
      ]
     },
     "execution_count": 8,
     "metadata": {},
     "output_type": "execute_result"
    }
   ],
   "source": [
    "cordis_reports = pd.read_excel(\"cordis_reports.xlsx\")\n",
    "categs = pd.read_excel(\"pos_label_categories.xlsx\") #ICT-related categories\n",
    "categs.head()"
   ]
  },
  {
   "cell_type": "code",
   "execution_count": 38,
   "metadata": {},
   "outputs": [
    {
     "data": {
      "text/html": [
       "<div>\n",
       "<style scoped>\n",
       "    .dataframe tbody tr th:only-of-type {\n",
       "        vertical-align: middle;\n",
       "    }\n",
       "\n",
       "    .dataframe tbody tr th {\n",
       "        vertical-align: top;\n",
       "    }\n",
       "\n",
       "    .dataframe thead th {\n",
       "        text-align: right;\n",
       "    }\n",
       "</style>\n",
       "<table border=\"1\" class=\"dataframe\">\n",
       "  <thead>\n",
       "    <tr style=\"text-align: right;\">\n",
       "      <th></th>\n",
       "      <th>rcn</th>\n",
       "      <th>language</th>\n",
       "      <th>title</th>\n",
       "      <th>teaser</th>\n",
       "      <th>summary</th>\n",
       "      <th>workPerformed</th>\n",
       "      <th>finalResults</th>\n",
       "      <th>lastUpdateDate</th>\n",
       "      <th>country</th>\n",
       "      <th>projectID</th>\n",
       "      <th>projectAcronym</th>\n",
       "      <th>programme</th>\n",
       "      <th>topics</th>\n",
       "      <th>relatedFile</th>\n",
       "      <th>url</th>\n",
       "    </tr>\n",
       "  </thead>\n",
       "  <tbody>\n",
       "    <tr>\n",
       "      <th>0</th>\n",
       "      <td>453405</td>\n",
       "      <td>en</td>\n",
       "      <td>Periodic Reporting for period 1 - DiAMS (SEMI-...</td>\n",
       "      <td>More than 420 M people live with diabetes glob...</td>\n",
       "      <td>More than 420 M people live with diabetes glob...</td>\n",
       "      <td>The development of the feasibility study gave ...</td>\n",
       "      <td>DiAMS will disrupt insulin therapy. It is invi...</td>\n",
       "      <td>2020-04-25 14:20:41</td>\n",
       "      <td>NaN</td>\n",
       "      <td>867975</td>\n",
       "      <td>DiAMS</td>\n",
       "      <td>H2020-EU.3.;H2020-EU.2.3.;H2020-EU.2.1.</td>\n",
       "      <td>EIC-SMEInst-2018-2020</td>\n",
       "      <td>/docs/results/h2020/867/867975_PS/image.jpg</td>\n",
       "      <td>https://amf.ch/</td>\n",
       "    </tr>\n",
       "    <tr>\n",
       "      <th>1</th>\n",
       "      <td>453406</td>\n",
       "      <td>en</td>\n",
       "      <td>Periodic Reporting for period 1 - ArtIST (Pre-...</td>\n",
       "      <td>An estimated 4.1 million people are affected b...</td>\n",
       "      <td>An estimated 4.1 million people are affected b...</td>\n",
       "      <td>The EU grant has helped us pushing forward our...</td>\n",
       "      <td>During the development of the project, and tog...</td>\n",
       "      <td>2020-04-25 14:21:02</td>\n",
       "      <td>NaN</td>\n",
       "      <td>868365</td>\n",
       "      <td>ArtIST</td>\n",
       "      <td>H2020-EU.3.;H2020-EU.2.3.;H2020-EU.2.1.</td>\n",
       "      <td>EIC-SMEInst-2018-2020</td>\n",
       "      <td>/docs/results/h2020/868/868365_PS/figure1-clov...</td>\n",
       "      <td>http://www.clovermsdataanalysis.com</td>\n",
       "    </tr>\n",
       "    <tr>\n",
       "      <th>2</th>\n",
       "      <td>449137</td>\n",
       "      <td>en</td>\n",
       "      <td>Periodic Reporting for period 1 - BioSolar Lea...</td>\n",
       "      <td>Due to fast worldwide population growth (from ...</td>\n",
       "      <td>Due to fast worldwide population growth (from ...</td>\n",
       "      <td>Arborea completed a full analysis of the techn...</td>\n",
       "      <td>The expected outcome is to optimize manufactur...</td>\n",
       "      <td>2020-04-25 15:29:00</td>\n",
       "      <td>NaN</td>\n",
       "      <td>878259</td>\n",
       "      <td>BioSolar Leaf</td>\n",
       "      <td>H2020-EU.3.;H2020-EU.2.3.;H2020-EU.2.1.</td>\n",
       "      <td>EIC-SMEInst-2018-2020</td>\n",
       "      <td>/docs/results/h2020/878/878259_PS/biosolar-lea...</td>\n",
       "      <td>http://arborea.io/</td>\n",
       "    </tr>\n",
       "    <tr>\n",
       "      <th>3</th>\n",
       "      <td>220274</td>\n",
       "      <td>en</td>\n",
       "      <td>Periodic Reporting for period 2 - NanOQTech (N...</td>\n",
       "      <td>Quantum technologies are developed to overcome...</td>\n",
       "      <td>Quantum technologies are developed to overcome...</td>\n",
       "      <td>The first part of the work carried out during ...</td>\n",
       "      <td>The nanoparticles developed during NanOQTech h...</td>\n",
       "      <td>2020-04-25 07:28:40</td>\n",
       "      <td>NaN</td>\n",
       "      <td>712721</td>\n",
       "      <td>NanOQTech</td>\n",
       "      <td>H2020-EU.1.2.1.</td>\n",
       "      <td>FETOPEN-RIA-2014-2015</td>\n",
       "      <td>/docs/results/h2020/712/712721_PS/imagekit.png</td>\n",
       "      <td>http://www.nanoqtech.eu</td>\n",
       "    </tr>\n",
       "    <tr>\n",
       "      <th>4</th>\n",
       "      <td>449138</td>\n",
       "      <td>en</td>\n",
       "      <td>Periodic Reporting for period 1 - Sampols (A n...</td>\n",
       "      <td>OrbiWise is a Swiss company based in Geneva, f...</td>\n",
       "      <td>OrbiWise is a Swiss company based in Geneva, f...</td>\n",
       "      <td>In this Feasibility Study, we have analyzed th...</td>\n",
       "      <td>There are two groups of competitors in the noi...</td>\n",
       "      <td>2020-04-25 15:01:40</td>\n",
       "      <td>NaN</td>\n",
       "      <td>878246</td>\n",
       "      <td>Sampols</td>\n",
       "      <td>H2020-EU.3.;H2020-EU.2.3.;H2020-EU.2.1.</td>\n",
       "      <td>EIC-SMEInst-2018-2020</td>\n",
       "      <td>/docs/results/h2020/878/878246_PS/image-1.png</td>\n",
       "      <td>http://www.orbiwise.com</td>\n",
       "    </tr>\n",
       "  </tbody>\n",
       "</table>\n",
       "</div>"
      ],
      "text/plain": [
       "      rcn language                                              title  \\\n",
       "0  453405       en  Periodic Reporting for period 1 - DiAMS (SEMI-...   \n",
       "1  453406       en  Periodic Reporting for period 1 - ArtIST (Pre-...   \n",
       "2  449137       en  Periodic Reporting for period 1 - BioSolar Lea...   \n",
       "3  220274       en  Periodic Reporting for period 2 - NanOQTech (N...   \n",
       "4  449138       en  Periodic Reporting for period 1 - Sampols (A n...   \n",
       "\n",
       "                                              teaser  \\\n",
       "0  More than 420 M people live with diabetes glob...   \n",
       "1  An estimated 4.1 million people are affected b...   \n",
       "2  Due to fast worldwide population growth (from ...   \n",
       "3  Quantum technologies are developed to overcome...   \n",
       "4  OrbiWise is a Swiss company based in Geneva, f...   \n",
       "\n",
       "                                             summary  \\\n",
       "0  More than 420 M people live with diabetes glob...   \n",
       "1  An estimated 4.1 million people are affected b...   \n",
       "2  Due to fast worldwide population growth (from ...   \n",
       "3  Quantum technologies are developed to overcome...   \n",
       "4  OrbiWise is a Swiss company based in Geneva, f...   \n",
       "\n",
       "                                       workPerformed  \\\n",
       "0  The development of the feasibility study gave ...   \n",
       "1  The EU grant has helped us pushing forward our...   \n",
       "2  Arborea completed a full analysis of the techn...   \n",
       "3  The first part of the work carried out during ...   \n",
       "4  In this Feasibility Study, we have analyzed th...   \n",
       "\n",
       "                                        finalResults       lastUpdateDate  \\\n",
       "0  DiAMS will disrupt insulin therapy. It is invi...  2020-04-25 14:20:41   \n",
       "1  During the development of the project, and tog...  2020-04-25 14:21:02   \n",
       "2  The expected outcome is to optimize manufactur...  2020-04-25 15:29:00   \n",
       "3  The nanoparticles developed during NanOQTech h...  2020-04-25 07:28:40   \n",
       "4  There are two groups of competitors in the noi...  2020-04-25 15:01:40   \n",
       "\n",
       "   country  projectID projectAcronym                                programme  \\\n",
       "0      NaN     867975          DiAMS  H2020-EU.3.;H2020-EU.2.3.;H2020-EU.2.1.   \n",
       "1      NaN     868365         ArtIST  H2020-EU.3.;H2020-EU.2.3.;H2020-EU.2.1.   \n",
       "2      NaN     878259  BioSolar Leaf  H2020-EU.3.;H2020-EU.2.3.;H2020-EU.2.1.   \n",
       "3      NaN     712721      NanOQTech                          H2020-EU.1.2.1.   \n",
       "4      NaN     878246        Sampols  H2020-EU.3.;H2020-EU.2.3.;H2020-EU.2.1.   \n",
       "\n",
       "                  topics                                        relatedFile  \\\n",
       "0  EIC-SMEInst-2018-2020        /docs/results/h2020/867/867975_PS/image.jpg   \n",
       "1  EIC-SMEInst-2018-2020  /docs/results/h2020/868/868365_PS/figure1-clov...   \n",
       "2  EIC-SMEInst-2018-2020  /docs/results/h2020/878/878259_PS/biosolar-lea...   \n",
       "3  FETOPEN-RIA-2014-2015     /docs/results/h2020/712/712721_PS/imagekit.png   \n",
       "4  EIC-SMEInst-2018-2020      /docs/results/h2020/878/878246_PS/image-1.png   \n",
       "\n",
       "                                   url  \n",
       "0                      https://amf.ch/  \n",
       "1  http://www.clovermsdataanalysis.com  \n",
       "2                   http://arborea.io/  \n",
       "3              http://www.nanoqtech.eu  \n",
       "4              http://www.orbiwise.com  "
      ]
     },
     "execution_count": 38,
     "metadata": {},
     "output_type": "execute_result"
    }
   ],
   "source": [
    "cordis_reports.head()"
   ]
  },
  {
   "cell_type": "code",
   "execution_count": 3,
   "metadata": {},
   "outputs": [
    {
     "name": "stderr",
     "output_type": "stream",
     "text": [
      "/mnt/c/Users/teemu.mikkonen/Documents/Dippa/env2/lib/python3.6/site-packages/ipykernel_launcher.py:3: SettingWithCopyWarning: \n",
      "A value is trying to be set on a copy of a slice from a DataFrame.\n",
      "Try using .loc[row_indexer,col_indexer] = value instead\n",
      "\n",
      "See the caveats in the documentation: http://pandas.pydata.org/pandas-docs/stable/indexing.html#indexing-view-versus-copy\n",
      "  This is separate from the ipykernel package so we can avoid doing imports until\n"
     ]
    },
    {
     "data": {
      "text/plain": [
       "(1368, 16)"
      ]
     },
     "execution_count": 3,
     "metadata": {},
     "output_type": "execute_result"
    }
   ],
   "source": [
    "search_values = categs['code'].tolist()\n",
    "pos = cordis_reports.loc[cordis_reports['topics'].str.contains('|'.join(search_values), case=False)]\n",
    "pos['label_code'] = 1\n",
    "pos.shape"
   ]
  },
  {
   "cell_type": "markdown",
   "metadata": {},
   "source": [
    "We remove all topics that do not clearly provide a theme or a category. For instance, SMEinst is directed to small and middle-sized companies and the actual topic can be just about anything. We judge that these wil bring too much noise into the dataset and they are removed"
   ]
  },
  {
   "cell_type": "code",
   "execution_count": 4,
   "metadata": {},
   "outputs": [],
   "source": [
    "neg = cordis_reports.loc[~cordis_reports['topics'].str.contains('|'.join(search_values), case=False)]\n",
    "no_topics = ['MSCA', 'SMEinst', 'ERC']\n",
    "neg = neg.loc[~neg['topics'].str.contains('|'.join(no_topics), case = False)]\n",
    "neg['label_code'] = 0"
   ]
  },
  {
   "cell_type": "code",
   "execution_count": 5,
   "metadata": {},
   "outputs": [
    {
     "data": {
      "text/plain": [
       "(6487, 16)"
      ]
     },
     "execution_count": 5,
     "metadata": {},
     "output_type": "execute_result"
    }
   ],
   "source": [
    "data = pd.concat([pos,neg])\n",
    "data.shape"
   ]
  },
  {
   "cell_type": "markdown",
   "metadata": {},
   "source": [
    "We drop all the unnecessary columns from the data. For the initial verion of this *WE ONLY USE SUMMARY DATA* as our features. This dataset also contains \"workPerformed\" and \"finalResults\" columns that may add to the information in the features. "
   ]
  },
  {
   "cell_type": "code",
   "execution_count": 6,
   "metadata": {},
   "outputs": [],
   "source": [
    "data.drop(['rcn', 'language', 'title','teaser',\n",
    "           'lastUpdateDate', 'country', 'projectID',\n",
    "           'projectAcronym', 'programme', 'relatedFile',\n",
    "          'url', 'topics'], axis = 1, inplace= True)"
   ]
  },
  {
   "cell_type": "code",
   "execution_count": 7,
   "metadata": {},
   "outputs": [],
   "source": [
    "data.drop(['workPerformed', 'finalResults'], axis = 1, inplace =True)\n",
    "data.reset_index(drop=True, inplace =True)"
   ]
  },
  {
   "cell_type": "markdown",
   "metadata": {},
   "source": [
    "##### Text preprocessing"
   ]
  },
  {
   "cell_type": "markdown",
   "metadata": {},
   "source": [
    "We remove all Stopwords, unnecessary symbols and transform the text into lowercase letters"
   ]
  },
  {
   "cell_type": "code",
   "execution_count": 8,
   "metadata": {},
   "outputs": [],
   "source": [
    "#import nltk\n",
    "#nltk.download('stopwords') #uncomment the first time you run the code\n",
    "from nltk.corpus import stopwords"
   ]
  },
  {
   "cell_type": "code",
   "execution_count": 9,
   "metadata": {},
   "outputs": [],
   "source": [
    "sw = stopwords.words('english')\n",
    "\n",
    "def preprocess_word(word, stopwords):\n",
    "\n",
    "    word = re.sub(\"[^A-Za-z0-9ÄäÖö-]+\", \"\", word)\n",
    "    word = re.sub(\"-\", \" \", word)\n",
    "    word = word.strip().lower()\n",
    "    if type(word) != None:\n",
    "        if word not in stopwords:\n",
    "            return word\n",
    "        else:\n",
    "            return \"\"\n",
    "\n",
    "def preprocess_sent(sent, stopwords):\n",
    "\n",
    "    if sent != \"\":\n",
    "        words = sent.strip().split(\" \")\n",
    "        final_sent = \" \".join([preprocess_word(word, stopwords) for word in words if type(word) != None])\n",
    "        return final_sent.strip()\n",
    "\n",
    "def preprocess_row(teksti, stopwords):\n",
    "\n",
    "    if type(teksti) == str:\n",
    "        sents = teksti.strip().split(\".\")\n",
    "        sents = filter(None,sents)\n",
    "        teksti = \".\".join([preprocess_sent(sent, stopwords) for sent in sents if type(sent) != None])\n",
    "        return teksti"
   ]
  },
  {
   "cell_type": "code",
   "execution_count": 10,
   "metadata": {},
   "outputs": [],
   "source": [
    "data['preprocessed'] = [preprocess_row(i, sw) for i in data['summary']]"
   ]
  },
  {
   "cell_type": "markdown",
   "metadata": {},
   "source": [
    "After preprocessing, we can begin building the classifier models"
   ]
  },
  {
   "cell_type": "markdown",
   "metadata": {},
   "source": [
    "### Regex model"
   ]
  },
  {
   "cell_type": "markdown",
   "metadata": {},
   "source": [
    "Regex model is based on simply finding the string 'ICT' from report. If found, class is declared 1, if not, 0. "
   ]
  },
  {
   "cell_type": "code",
   "execution_count": 11,
   "metadata": {},
   "outputs": [],
   "source": [
    "def check_regex(string, txt):\n",
    "    if type(txt) == str:\n",
    "        if re.search(string, txt):\n",
    "            return True\n",
    "        else: \n",
    "            return False\n",
    "    else:\n",
    "        return False"
   ]
  },
  {
   "cell_type": "code",
   "execution_count": 12,
   "metadata": {},
   "outputs": [
    {
     "data": {
      "text/html": [
       "<div>\n",
       "<style scoped>\n",
       "    .dataframe tbody tr th:only-of-type {\n",
       "        vertical-align: middle;\n",
       "    }\n",
       "\n",
       "    .dataframe tbody tr th {\n",
       "        vertical-align: top;\n",
       "    }\n",
       "\n",
       "    .dataframe thead th {\n",
       "        text-align: right;\n",
       "    }\n",
       "</style>\n",
       "<table border=\"1\" class=\"dataframe\">\n",
       "  <thead>\n",
       "    <tr style=\"text-align: right;\">\n",
       "      <th></th>\n",
       "      <th>summary</th>\n",
       "      <th>label_code</th>\n",
       "      <th>preprocessed</th>\n",
       "      <th>pred_label</th>\n",
       "    </tr>\n",
       "  </thead>\n",
       "  <tbody>\n",
       "    <tr>\n",
       "      <th>0</th>\n",
       "      <td>The WAKeMeUP project objective is to set up a ...</td>\n",
       "      <td>1</td>\n",
       "      <td>wakemeup project objective   set   pilot line ...</td>\n",
       "      <td>0</td>\n",
       "    </tr>\n",
       "    <tr>\n",
       "      <th>1</th>\n",
       "      <td>The BroadWay project will take the first procu...</td>\n",
       "      <td>1</td>\n",
       "      <td>broadway project  take  first procurement step...</td>\n",
       "      <td>0</td>\n",
       "    </tr>\n",
       "    <tr>\n",
       "      <th>2</th>\n",
       "      <td>\"LiDAR cyber security interference problem sta...</td>\n",
       "      <td>1</td>\n",
       "      <td>lidar cyber security interference problem stat...</td>\n",
       "      <td>0</td>\n",
       "    </tr>\n",
       "    <tr>\n",
       "      <th>3</th>\n",
       "      <td>Blockchain and distributed ledger technologies...</td>\n",
       "      <td>1</td>\n",
       "      <td>blockchain  distributed ledger technologies dl...</td>\n",
       "      <td>1</td>\n",
       "    </tr>\n",
       "    <tr>\n",
       "      <th>4</th>\n",
       "      <td>The security problems arising, in Internet of ...</td>\n",
       "      <td>1</td>\n",
       "      <td>security problems arising  internet  things io...</td>\n",
       "      <td>0</td>\n",
       "    </tr>\n",
       "  </tbody>\n",
       "</table>\n",
       "</div>"
      ],
      "text/plain": [
       "                                             summary  label_code  \\\n",
       "0  The WAKeMeUP project objective is to set up a ...           1   \n",
       "1  The BroadWay project will take the first procu...           1   \n",
       "2  \"LiDAR cyber security interference problem sta...           1   \n",
       "3  Blockchain and distributed ledger technologies...           1   \n",
       "4  The security problems arising, in Internet of ...           1   \n",
       "\n",
       "                                        preprocessed  pred_label  \n",
       "0  wakemeup project objective   set   pilot line ...           0  \n",
       "1  broadway project  take  first procurement step...           0  \n",
       "2  lidar cyber security interference problem stat...           0  \n",
       "3  blockchain  distributed ledger technologies dl...           1  \n",
       "4  security problems arising  internet  things io...           0  "
      ]
     },
     "execution_count": 12,
     "metadata": {},
     "output_type": "execute_result"
    }
   ],
   "source": [
    "classifier_string = re.compile(r'ict', re.I)\n",
    "data['pred_label'] = [1 if check_regex(classifier_string, i) is True else 0 for i in data['summary']]\n",
    "data.head()"
   ]
  },
  {
   "cell_type": "markdown",
   "metadata": {},
   "source": [
    "### fastText-model"
   ]
  },
  {
   "cell_type": "markdown",
   "metadata": {},
   "source": [
    "FastText model is based on word representations and subword information. The data is written into files with label written before text. We also perform train-test-split and use consequent split in both fastText and LSI-classification to ensure comparability"
   ]
  },
  {
   "cell_type": "code",
   "execution_count": 14,
   "metadata": {},
   "outputs": [],
   "source": [
    "df_ft = data\n",
    "label = []\n",
    "for i in df_ft['label_code']:\n",
    "    if i == 1:\n",
    "        label.append(\"__label__ict\")\n",
    "    else:\n",
    "        label.append(\"__label__notict\")\n",
    "df_ft['str_label'] = label"
   ]
  },
  {
   "cell_type": "code",
   "execution_count": 15,
   "metadata": {},
   "outputs": [],
   "source": [
    "split_size = 0.20\n",
    "train, test = train_test_split(df_ft, test_size = split_size, random_state=12)\n",
    "df_train = pd.DataFrame(data = {'label':train['str_label'], 'text':train['preprocessed']})\n",
    "df_test = pd.DataFrame(data = {'label':test['str_label'], 'text':test['preprocessed']})"
   ]
  },
  {
   "cell_type": "code",
   "execution_count": 16,
   "metadata": {},
   "outputs": [],
   "source": [
    "df_train.to_csv(\"train.txt\", sep='\\t', index = False, header = False)\n",
    "df_test.to_csv(\"test.txt\", sep='\\t', index = False, header = False)"
   ]
  },
  {
   "cell_type": "markdown",
   "metadata": {},
   "source": [
    "In the following cell, we initialize and run the classifier. Classifier reads the data from files in the working directory"
   ]
  },
  {
   "cell_type": "code",
   "execution_count": 17,
   "metadata": {},
   "outputs": [],
   "source": [
    "ft_classifier = ft.train_supervised(\n",
    "    'train.txt',\n",
    "    label_prefix = '__label__',\n",
    "    epoch = 100,\n",
    "    dim = 100,\n",
    "    word_ngrams = 3,\n",
    "    ws = 3)"
   ]
  },
  {
   "cell_type": "code",
   "execution_count": 18,
   "metadata": {},
   "outputs": [],
   "source": [
    "df_test['text'] = df_test['text'].str.replace(\"__label__\", \"\")\n",
    "ft_score = ft_classifier.predict(df_test['text'].tolist(), k=2)\n",
    "score_label = [i for i in ft_score[0]]\n",
    "score_prob = [i for i in ft_score[1]]\n",
    "\n",
    "ft_prob = pd.DataFrame(data = {'text': df_test['text'], 'label':df_test['label'], 'score':score_label})\n",
    "ft_prob['score'] = [i[0] for i in ft_prob['score']]\n",
    "ft_prob['label_code'] = [1 if i == '__label__ict' else 0 for i in ft_prob['label']]\n",
    "ft_prob['pred_label'] = [1 if i == '__label__ict' else 0 for i in ft_prob['score']]"
   ]
  },
  {
   "cell_type": "markdown",
   "metadata": {},
   "source": [
    "We write classification probability into single column to use in the ROC-curve. "
   ]
  },
  {
   "cell_type": "code",
   "execution_count": 19,
   "metadata": {},
   "outputs": [
    {
     "data": {
      "text/html": [
       "<div>\n",
       "<style scoped>\n",
       "    .dataframe tbody tr th:only-of-type {\n",
       "        vertical-align: middle;\n",
       "    }\n",
       "\n",
       "    .dataframe tbody tr th {\n",
       "        vertical-align: top;\n",
       "    }\n",
       "\n",
       "    .dataframe thead th {\n",
       "        text-align: right;\n",
       "    }\n",
       "</style>\n",
       "<table border=\"1\" class=\"dataframe\">\n",
       "  <thead>\n",
       "    <tr style=\"text-align: right;\">\n",
       "      <th></th>\n",
       "      <th>text</th>\n",
       "      <th>label</th>\n",
       "      <th>score</th>\n",
       "      <th>label_code</th>\n",
       "      <th>pred_label</th>\n",
       "      <th>score_prob</th>\n",
       "    </tr>\n",
       "  </thead>\n",
       "  <tbody>\n",
       "    <tr>\n",
       "      <th>5185</th>\n",
       "      <td>work investigates  results  investigating  pos...</td>\n",
       "      <td>__label__notict</td>\n",
       "      <td>__label__notict</td>\n",
       "      <td>0</td>\n",
       "      <td>0</td>\n",
       "      <td>0.121579</td>\n",
       "    </tr>\n",
       "    <tr>\n",
       "      <th>5044</th>\n",
       "      <td>central objective   rysq project   implement  ...</td>\n",
       "      <td>__label__notict</td>\n",
       "      <td>__label__notict</td>\n",
       "      <td>0</td>\n",
       "      <td>0</td>\n",
       "      <td>0.042355</td>\n",
       "    </tr>\n",
       "    <tr>\n",
       "      <th>4764</th>\n",
       "      <td>lithuanian based transport telecommunications ...</td>\n",
       "      <td>__label__notict</td>\n",
       "      <td>__label__notict</td>\n",
       "      <td>0</td>\n",
       "      <td>0</td>\n",
       "      <td>0.020436</td>\n",
       "    </tr>\n",
       "    <tr>\n",
       "      <th>1562</th>\n",
       "      <td>overall concept  kaminler project   set   deve...</td>\n",
       "      <td>__label__notict</td>\n",
       "      <td>__label__notict</td>\n",
       "      <td>0</td>\n",
       "      <td>0</td>\n",
       "      <td>0.000011</td>\n",
       "    </tr>\n",
       "    <tr>\n",
       "      <th>403</th>\n",
       "      <td>information  communication technology ict  ess...</td>\n",
       "      <td>__label__ict</td>\n",
       "      <td>__label__notict</td>\n",
       "      <td>1</td>\n",
       "      <td>0</td>\n",
       "      <td>0.430076</td>\n",
       "    </tr>\n",
       "  </tbody>\n",
       "</table>\n",
       "</div>"
      ],
      "text/plain": [
       "                                                   text            label  \\\n",
       "5185  work investigates  results  investigating  pos...  __label__notict   \n",
       "5044  central objective   rysq project   implement  ...  __label__notict   \n",
       "4764  lithuanian based transport telecommunications ...  __label__notict   \n",
       "1562  overall concept  kaminler project   set   deve...  __label__notict   \n",
       "403   information  communication technology ict  ess...     __label__ict   \n",
       "\n",
       "                score  label_code  pred_label  score_prob  \n",
       "5185  __label__notict           0           0    0.121579  \n",
       "5044  __label__notict           0           0    0.042355  \n",
       "4764  __label__notict           0           0    0.020436  \n",
       "1562  __label__notict           0           0    0.000011  \n",
       "403   __label__notict           1           0    0.430076  "
      ]
     },
     "execution_count": 19,
     "metadata": {},
     "output_type": "execute_result"
    }
   ],
   "source": [
    "ftlabel = []\n",
    "ftprob = []\n",
    "for i in range(len(ft_score[0])):\n",
    "    ftlabel.append(score_label[i][0])\n",
    "    if score_label[i][0] == '__label__ict':\n",
    "        ftprob.append(score_prob[i][0])\n",
    "    else:\n",
    "        ftprob.append(score_prob[i][1])\n",
    "ft_prob['score_prob'] = ftprob\n",
    "ft_prob.head()"
   ]
  },
  {
   "cell_type": "markdown",
   "metadata": {},
   "source": [
    "### LSI-model"
   ]
  },
  {
   "cell_type": "markdown",
   "metadata": {},
   "source": [
    "LSI model is based on giving documents a semantic vector representation. First, we extraxt features by bag-of-words word-frequency, after which we give each word a TF-IDF-score. Then we reduce the dimensionality of these document vectors in order to create comparable semantic document vectors"
   ]
  },
  {
   "cell_type": "code",
   "execution_count": 20,
   "metadata": {},
   "outputs": [],
   "source": [
    "texts = data['summary'].tolist()\n",
    "frequency = defaultdict(int)\n",
    "for text in texts:\n",
    "    if text != None:\n",
    "        tokens = text.split(\" \")\n",
    "        for token in tokens:\n",
    "            frequency[token] += 1\n",
    "\n",
    "texts = [\n",
    "    [token for token in text.split(\" \") if frequency[token] > 1 if text != None] #Removing words with frequency of 1 occurrence.\n",
    "    for text in texts if text != None\n",
    "]"
   ]
  },
  {
   "cell_type": "code",
   "execution_count": 21,
   "metadata": {},
   "outputs": [
    {
     "name": "stderr",
     "output_type": "stream",
     "text": [
      "2020-05-25 10:10:27,387 : INFO : adding document #0 to Dictionary(0 unique tokens: [])\n",
      "2020-05-25 10:10:29,189 : INFO : built Dictionary(48006 unique tokens: ['(PCM)', '-', '28nm', 'Additional', 'Change']...) from 6487 documents (total 1877666 corpus positions)\n"
     ]
    }
   ],
   "source": [
    "dictionary = corpora.Dictionary(texts)  #Dictionary for all the words in all the documents"
   ]
  },
  {
   "cell_type": "markdown",
   "metadata": {},
   "source": [
    "Latent semantic indexing uses an unsupervised topic model, which represents each document as a sum of the topic values"
   ]
  },
  {
   "cell_type": "code",
   "execution_count": 22,
   "metadata": {},
   "outputs": [
    {
     "name": "stderr",
     "output_type": "stream",
     "text": [
      "2020-05-25 10:10:29,196 : INFO : collecting document frequencies\n",
      "2020-05-25 10:10:29,198 : INFO : PROGRESS: processing document #0\n",
      "2020-05-25 10:10:30,928 : INFO : calculating IDF weights for 6487 documents and 48006 features (1103816 matrix non-zeros)\n",
      "2020-05-25 10:10:31,244 : INFO : using serial LSI version on this node\n",
      "2020-05-25 10:10:31,246 : INFO : updating model with new documents\n",
      "2020-05-25 10:10:46,520 : INFO : preparing a new chunk of documents\n",
      "2020-05-25 10:10:47,094 : INFO : using 100 extra samples and 10 power iterations\n",
      "2020-05-25 10:10:47,096 : INFO : 1st phase: constructing (48006, 300) action matrix\n",
      "2020-05-25 10:10:48,177 : INFO : orthonormalizing (48006, 300) action matrix\n",
      "2020-05-25 10:11:48,490 : INFO : 2nd phase: running dense svd on (300, 6487) matrix\n",
      "2020-05-25 10:11:49,455 : INFO : computing the final decomposition\n",
      "2020-05-25 10:11:49,457 : INFO : keeping 200 factors (discarding 19.591% of energy spectrum)\n",
      "2020-05-25 10:11:50,577 : INFO : processed documents up to #6487\n",
      "2020-05-25 10:11:50,607 : INFO : topic #0(10.596): 0.131*\"energy\" + 0.128*\"innovation\" + 0.118*\"\" + 0.089*\"will\" + 0.089*\"data\" + 0.083*\"services\" + 0.082*\"research\" + 0.079*\"SMEs\" + 0.074*\"their\" + 0.073*\"European\"\n",
      "2020-05-25 10:11:50,612 : INFO : topic #1(5.805): 0.435*\"innovation\" + 0.335*\"SMEs\" + 0.276*\"SME\" + 0.204*\"services\" + 0.169*\"beneficiaries\" + 0.150*\"management\" + -0.142*\"energy\" + 0.130*\"Instrument\" + 0.130*\"capacity\" + 0.107*\"support\"\n",
      "2020-05-25 10:11:50,616 : INFO : topic #2(4.589): 0.489*\"energy\" + -0.145*\"clinical\" + 0.143*\"heat\" + -0.130*\"patients\" + 0.128*\"power\" + 0.126*\"renewable\" + -0.122*\"cancer\" + 0.121*\"efficiency\" + -0.113*\"\" + -0.109*\"data\"\n",
      "2020-05-25 10:11:50,620 : INFO : topic #3(4.305): 0.180*\"research\" + 0.152*\"energy\" + -0.150*\"clinical\" + 0.134*\"policy\" + -0.134*\"cancer\" + -0.132*\"patients\" + -0.131*\"SME\" + -0.103*\"treatment\" + 0.102*\"public\" + 0.100*\"social\"\n",
      "2020-05-25 10:11:50,624 : INFO : topic #4(4.188): 0.957*\"\" + -0.047*\"clinical\" + 0.047*\"\n",
      "\" + -0.046*\"cancer\" + -0.041*\"patients\" + 0.040*\"-\" + 0.033*\"•\" + -0.032*\"disease\" + -0.030*\"health\" + 0.029*\"energy\"\n"
     ]
    }
   ],
   "source": [
    "class MyCorpus(object):\n",
    "    def __iter__(self):\n",
    "        for text in texts:\n",
    "            yield dictionary.doc2bow(text)\n",
    "\n",
    "corpus = MyCorpus()\n",
    "tfidf = models.TfidfModel(corpus)\n",
    "corpus_tfidf = tfidf[corpus]\n",
    "lsi_model = models.LsiModel(corpus_tfidf, id2word=dictionary, num_topics=200, power_iters=10)"
   ]
  },
  {
   "cell_type": "markdown",
   "metadata": {},
   "source": [
    "We give the vector representation to train and test samples of the research data"
   ]
  },
  {
   "cell_type": "code",
   "execution_count": 23,
   "metadata": {},
   "outputs": [],
   "source": [
    "df_train['doc2bow'] = [dictionary.doc2bow(i.split()) for i in df_train['text'].tolist()]\n",
    "df_train['tf_idf'] = tfidf[df_train['doc2bow']]\n",
    "lstr = []\n",
    "for i in df_train['tf_idf']:\n",
    "    lstr.append(lsi_model[i])\n",
    "df_train['lsi'] = lstr\n",
    "df_train['label_code'] = [1 if i == '__label__ict' else 0 for i in df_train['label']]"
   ]
  },
  {
   "cell_type": "code",
   "execution_count": 24,
   "metadata": {},
   "outputs": [],
   "source": [
    "df_test['doc2bow'] = [dictionary.doc2bow(i.split()) for i in df_test['text'].tolist()]\n",
    "df_test['tf_idf'] = tfidf[df_test['doc2bow']]\n",
    "ls = []\n",
    "for i in df_test['tf_idf']:\n",
    "    ls.append(lsi_model[i])\n",
    "df_test['lsi'] = ls\n",
    "df_test['label_code'] = [1 if i == '__label__ict' else 0 for i in df_test['label']]\n",
    "#df_test.head()"
   ]
  },
  {
   "cell_type": "markdown",
   "metadata": {},
   "source": [
    "Next we form the topic vectors into 200-dimensional vectors and initialize the KNN-classifier"
   ]
  },
  {
   "cell_type": "code",
   "execution_count": 25,
   "metadata": {},
   "outputs": [],
   "source": [
    "def create_vec(df):\n",
    "    x =[]\n",
    "    num = 0\n",
    "    for i in df['lsi']:\n",
    "        test = []\n",
    "        for a in i:\n",
    "            test.append(a[1])\n",
    "        \n",
    "        if test != []:\n",
    "            x.append(test)\n",
    "        else:\n",
    "            print(num)\n",
    "        num +=1\n",
    "    return np.array(x)\n",
    "\n",
    "X = create_vec(df_train)\n",
    "Y = df_train['label_code']\n",
    "xt = create_vec(df_test)\n",
    "yt = df_test['label_code']\n",
    "neigh = KNeighborsClassifier(n_neighbors=5) "
   ]
  },
  {
   "cell_type": "markdown",
   "metadata": {},
   "source": [
    "In order to combat the class imbalance in the data, we oversample the positive class to a ratio of 1:2"
   ]
  },
  {
   "cell_type": "code",
   "execution_count": 26,
   "metadata": {},
   "outputs": [
    {
     "name": "stderr",
     "output_type": "stream",
     "text": [
      "Using TensorFlow backend.\n"
     ]
    }
   ],
   "source": [
    "from imblearn.over_sampling import SMOTE\n",
    "sm = SMOTE(0.5)\n",
    "x_train_res, y_train_res = sm.fit_sample(X,Y)"
   ]
  },
  {
   "cell_type": "markdown",
   "metadata": {},
   "source": [
    "We fit the oversampled training data to KNN classifier"
   ]
  },
  {
   "cell_type": "code",
   "execution_count": 27,
   "metadata": {},
   "outputs": [],
   "source": [
    "neigh.fit(x_train_res,y_train_res)\n",
    "#neigh.fit(X,Y)\n",
    "preds = neigh.predict_proba(xt) #classification probabilities\n",
    "pred = preds[:,1]\n",
    "lsi_labels = neigh.predict(xt)\n",
    "df_test['pred_label'] = lsi_labels"
   ]
  },
  {
   "cell_type": "markdown",
   "metadata": {},
   "source": [
    "## Model evaluation"
   ]
  },
  {
   "cell_type": "markdown",
   "metadata": {},
   "source": [
    "We start the evaluation process by assignin a truth value of the confusion matrix to each sample by comparing the actual class to predicted one. Values are summed and evaluation metrics are calculated based on them. As evaluation metrics we use:\n",
    "- Precision\n",
    "- Recall\n",
    "- F1-score\n",
    "- AUC (Area under ROC-curve\n",
    "- PR (Area under Precision-recall-curve"
   ]
  },
  {
   "cell_type": "code",
   "execution_count": 29,
   "metadata": {},
   "outputs": [],
   "source": [
    "def truth_val(df):\n",
    "    orig = df['label_code']\n",
    "    pred = df['pred_label']\n",
    "    if orig == 1 and pred == 1:\n",
    "        return 'true_positive'\n",
    "    if orig == 1 and pred ==0: \n",
    "        return 'false_negative'\n",
    "    if orig == 0 and pred ==1:\n",
    "        return 'false_positive'\n",
    "    if orig == 0 and pred == 0:\n",
    "        return 'true_negative'\n",
    "\n",
    "df_test['truthvalue'] = df_test.apply(truth_val, axis = 1)\n",
    "ft_prob['truthvalue'] = ft_prob.apply(truth_val, axis = 1)\n",
    "data['truthvalue'] = data.apply(truth_val, axis=1)"
   ]
  },
  {
   "cell_type": "code",
   "execution_count": 30,
   "metadata": {},
   "outputs": [],
   "source": [
    "def sum_truthvals(model):\n",
    "    \n",
    "    tp = model['truthvalue'].value_counts()['true_positive']\n",
    "    fp = model['truthvalue'].value_counts()['false_positive']\n",
    "    fn = model['truthvalue'].value_counts()['false_negative']\n",
    "    tn = model['truthvalue'].value_counts()['true_negative']\n",
    "    \n",
    "    return [tp, fp, fn, tn]\n",
    "\n",
    "\n",
    "def calculate_precision(df):\n",
    "\n",
    "    p = df['True Positives'] / (df['True Positives'] + df['False Positives'])\n",
    "    return p\n",
    "\n",
    "def calculate_recall(df):\n",
    "\n",
    "    r = df['True Positives'] / (df['True Positives'] + df['False Negatives'])\n",
    "    return r\n",
    "\n",
    "def calculate_fscore(df):\n",
    "\n",
    "    f = 2 * df['Precision'] * df['Recall'] / (df['Precision'] + df['Recall'])\n",
    "    return f\n",
    "\n",
    "\n",
    "models = {'regex': sum_truthvals(data), 'fastText':sum_truthvals(ft_prob), 'LSI':sum_truthvals(df_test)}"
   ]
  },
  {
   "cell_type": "code",
   "execution_count": 31,
   "metadata": {},
   "outputs": [],
   "source": [
    "df_eval = pd.DataFrame(data = models, index = ['True Positives', 'False Positives', 'False Negatives', 'True Negatives']).transpose()"
   ]
  },
  {
   "cell_type": "code",
   "execution_count": 39,
   "metadata": {},
   "outputs": [
    {
     "data": {
      "text/html": [
       "<div>\n",
       "<style scoped>\n",
       "    .dataframe tbody tr th:only-of-type {\n",
       "        vertical-align: middle;\n",
       "    }\n",
       "\n",
       "    .dataframe tbody tr th {\n",
       "        vertical-align: top;\n",
       "    }\n",
       "\n",
       "    .dataframe thead th {\n",
       "        text-align: right;\n",
       "    }\n",
       "</style>\n",
       "<table border=\"1\" class=\"dataframe\">\n",
       "  <thead>\n",
       "    <tr style=\"text-align: right;\">\n",
       "      <th></th>\n",
       "      <th>True Positives</th>\n",
       "      <th>False Positives</th>\n",
       "      <th>False Negatives</th>\n",
       "      <th>True Negatives</th>\n",
       "      <th>Precision</th>\n",
       "      <th>Recall</th>\n",
       "      <th>F1-score</th>\n",
       "      <th>AUC</th>\n",
       "      <th>PR</th>\n",
       "    </tr>\n",
       "  </thead>\n",
       "  <tbody>\n",
       "    <tr>\n",
       "      <th>regex</th>\n",
       "      <td>379</td>\n",
       "      <td>999</td>\n",
       "      <td>989</td>\n",
       "      <td>4120</td>\n",
       "      <td>0.275036</td>\n",
       "      <td>0.277047</td>\n",
       "      <td>0.276038</td>\n",
       "      <td>0.540946</td>\n",
       "      <td>0.352271</td>\n",
       "    </tr>\n",
       "    <tr>\n",
       "      <th>fastText</th>\n",
       "      <td>91</td>\n",
       "      <td>39</td>\n",
       "      <td>158</td>\n",
       "      <td>1010</td>\n",
       "      <td>0.700000</td>\n",
       "      <td>0.365462</td>\n",
       "      <td>0.480211</td>\n",
       "      <td>0.831712</td>\n",
       "      <td>0.576054</td>\n",
       "    </tr>\n",
       "    <tr>\n",
       "      <th>LSI</th>\n",
       "      <td>176</td>\n",
       "      <td>291</td>\n",
       "      <td>73</td>\n",
       "      <td>758</td>\n",
       "      <td>0.376874</td>\n",
       "      <td>0.706827</td>\n",
       "      <td>0.491620</td>\n",
       "      <td>0.773529</td>\n",
       "      <td>0.517821</td>\n",
       "    </tr>\n",
       "  </tbody>\n",
       "</table>\n",
       "</div>"
      ],
      "text/plain": [
       "          True Positives  False Positives  False Negatives  True Negatives  \\\n",
       "regex                379              999              989            4120   \n",
       "fastText              91               39              158            1010   \n",
       "LSI                  176              291               73             758   \n",
       "\n",
       "          Precision    Recall  F1-score       AUC        PR  \n",
       "regex      0.275036  0.277047  0.276038  0.540946  0.352271  \n",
       "fastText   0.700000  0.365462  0.480211  0.831712  0.576054  \n",
       "LSI        0.376874  0.706827  0.491620  0.773529  0.517821  "
      ]
     },
     "execution_count": 39,
     "metadata": {},
     "output_type": "execute_result"
    }
   ],
   "source": [
    "df_eval"
   ]
  },
  {
   "cell_type": "code",
   "execution_count": 33,
   "metadata": {},
   "outputs": [],
   "source": [
    "df_eval['Precision'] = calculate_precision(df_eval)\n",
    "df_eval['Recall'] = calculate_recall(df_eval)\n",
    "df_eval['F1-score'] = calculate_fscore(df_eval)"
   ]
  },
  {
   "cell_type": "markdown",
   "metadata": {},
   "source": [
    "In order to gain more comprehensive look at the model performance, we plot ROC and PR-curves that highlight model performance with different thresholds of the classification probability. Threshold is a probability boundary that decides the value, which divides positive class and negative class"
   ]
  },
  {
   "cell_type": "code",
   "execution_count": 34,
   "metadata": {},
   "outputs": [],
   "source": [
    "def roc_metrics(test_label, pred):\n",
    "    fpr, tpr, threshold = metrics.roc_curve(test_label, pred)\n",
    "    roc_auc = metrics.auc(fpr, tpr)\n",
    "    return fpr, tpr, roc_auc\n",
    "\n",
    "fpr_lsi, tpr_lsi, roc_auc_lsi = roc_metrics(yt,pred)\n",
    "fpr_ft, tpr_ft, roc_auc_ft = roc_metrics(yt, ft_prob['score_prob'])\n",
    "fpr_re, tpr_re, roc_auc_re = roc_metrics(data['label_code'], data['pred_label'])\n",
    "df_eval['AUC'] = [roc_auc_re, roc_auc_ft, roc_auc_lsi]"
   ]
  },
  {
   "cell_type": "code",
   "execution_count": 35,
   "metadata": {},
   "outputs": [
    {
     "data": {
      "image/png": "[encoded data removed]",
      "text/plain": [
       "<Figure size 432x288 with 1 Axes>"
      ]
     },
     "metadata": {
      "needs_background": "light"
     },
     "output_type": "display_data"
    }
   ],
   "source": [
    "plt.title('ROC-curves')\n",
    "plt.plot(fpr_lsi, tpr_lsi, 'b', label = 'AUC_lsi = %0.2f' % roc_auc_lsi)\n",
    "plt.plot(fpr_ft, tpr_ft, 'g', label = 'AUC_ft = %0.2f' % roc_auc_ft)\n",
    "plt.plot(fpr_re, tpr_re, 'y', label = 'AUC_re = %0.2f' % roc_auc_re)\n",
    "plt.plot([0, 1], [0, 1],'r--', label = 'Random classifier = 0.50')\n",
    "plt.legend(loc = 'lower right')\n",
    "\n",
    "plt.xlim([0, 1])\n",
    "plt.ylim([0, 1])\n",
    "plt.ylabel('True Positive Rate')\n",
    "plt.xlabel('False Positive Rate')\n",
    "plt.show()"
   ]
  },
  {
   "cell_type": "code",
   "execution_count": 36,
   "metadata": {},
   "outputs": [],
   "source": [
    "def pr_metrics(test_label,pred):\n",
    "    precision, recall, thresholds = precision_recall_curve(test_label,pred)\n",
    "    area = metrics.auc(recall, precision)\n",
    "    return precision, recall, area\n",
    "\n",
    "p_re, r_re, area_re = pr_metrics(data['label_code'], data['pred_label'])\n",
    "p_ft, r_ft, area_ft = pr_metrics(yt, ft_prob['score_prob'])\n",
    "p_lsi, r_lsi, area_lsi = pr_metrics(yt,pred)\n",
    "df_eval['PR'] = [area_re, area_ft,area_lsi]"
   ]
  },
  {
   "cell_type": "code",
   "execution_count": 37,
   "metadata": {},
   "outputs": [
    {
     "data": {
      "image/png": "[encoded data removed]",
      "text/plain": [
       "<Figure size 432x288 with 1 Axes>"
      ]
     },
     "metadata": {
      "needs_background": "light"
     },
     "output_type": "display_data"
    }
   ],
   "source": [
    "plt.clf()\n",
    "plt.plot(p_lsi, r_lsi, 'b', label='Area PR_LSI = %0.2f' % area_lsi)\n",
    "plt.plot(p_ft, r_ft, 'g', label='Area PR_fastText = %0.2f' % area_ft)\n",
    "plt.plot(p_re, r_re, 'y', label='Area PR_Regex = %0.2f' % area_re)\n",
    "no_skill = len(yt[yt==1]) / len(yt)\n",
    "plt.plot([0, 1], [no_skill, no_skill], color='r', linestyle='--', label='Random classifier')\n",
    "plt.xlabel('Recall')\n",
    "plt.ylabel('Precision')\n",
    "plt.ylim([0.0, 1.0])\n",
    "plt.xlim([0.0, 1.0])\n",
    "plt.title('Precision-Recall-curves')\n",
    "plt.legend(loc=\"lower left\")\n",
    "plt.show()"
   ]
  },
  {
   "cell_type": "code",
   "execution_count": 40,
   "metadata": {},
   "outputs": [
    {
     "data": {
      "text/html": [
       "<div>\n",
       "<style scoped>\n",
       "    .dataframe tbody tr th:only-of-type {\n",
       "        vertical-align: middle;\n",
       "    }\n",
       "\n",
       "    .dataframe tbody tr th {\n",
       "        vertical-align: top;\n",
       "    }\n",
       "\n",
       "    .dataframe thead th {\n",
       "        text-align: right;\n",
       "    }\n",
       "</style>\n",
       "<table border=\"1\" class=\"dataframe\">\n",
       "  <thead>\n",
       "    <tr style=\"text-align: right;\">\n",
       "      <th></th>\n",
       "      <th>True Positives</th>\n",
       "      <th>False Positives</th>\n",
       "      <th>False Negatives</th>\n",
       "      <th>True Negatives</th>\n",
       "      <th>Precision</th>\n",
       "      <th>Recall</th>\n",
       "      <th>F1-score</th>\n",
       "      <th>AUC</th>\n",
       "      <th>PR</th>\n",
       "    </tr>\n",
       "  </thead>\n",
       "  <tbody>\n",
       "    <tr>\n",
       "      <th>regex</th>\n",
       "      <td>379</td>\n",
       "      <td>999</td>\n",
       "      <td>989</td>\n",
       "      <td>4120</td>\n",
       "      <td>0.275036</td>\n",
       "      <td>0.277047</td>\n",
       "      <td>0.276038</td>\n",
       "      <td>0.540946</td>\n",
       "      <td>0.352271</td>\n",
       "    </tr>\n",
       "    <tr>\n",
       "      <th>fastText</th>\n",
       "      <td>91</td>\n",
       "      <td>39</td>\n",
       "      <td>158</td>\n",
       "      <td>1010</td>\n",
       "      <td>0.700000</td>\n",
       "      <td>0.365462</td>\n",
       "      <td>0.480211</td>\n",
       "      <td>0.831712</td>\n",
       "      <td>0.576054</td>\n",
       "    </tr>\n",
       "    <tr>\n",
       "      <th>LSI</th>\n",
       "      <td>176</td>\n",
       "      <td>291</td>\n",
       "      <td>73</td>\n",
       "      <td>758</td>\n",
       "      <td>0.376874</td>\n",
       "      <td>0.706827</td>\n",
       "      <td>0.491620</td>\n",
       "      <td>0.773529</td>\n",
       "      <td>0.517821</td>\n",
       "    </tr>\n",
       "  </tbody>\n",
       "</table>\n",
       "</div>"
      ],
      "text/plain": [
       "          True Positives  False Positives  False Negatives  True Negatives  \\\n",
       "regex                379              999              989            4120   \n",
       "fastText              91               39              158            1010   \n",
       "LSI                  176              291               73             758   \n",
       "\n",
       "          Precision    Recall  F1-score       AUC        PR  \n",
       "regex      0.275036  0.277047  0.276038  0.540946  0.352271  \n",
       "fastText   0.700000  0.365462  0.480211  0.831712  0.576054  \n",
       "LSI        0.376874  0.706827  0.491620  0.773529  0.517821  "
      ]
     },
     "execution_count": 40,
     "metadata": {},
     "output_type": "execute_result"
    }
   ],
   "source": [
    "df_eval"
   ]
  },
  {
   "cell_type": "markdown",
   "metadata": {},
   "source": [
    "## Results"
   ]
  },
  {
   "cell_type": "markdown",
   "metadata": {},
   "source": [
    "As we can see, the preliminary results show that fastText classifier has the best success in classifying the samples by all metrics besides Recall. This leads to the conclusion that on situations where it is important to distinquish all the relevant samples from positively classified samples, fastText model performs the best. This applies to situations, where the cost of false negatives is low. \n",
    "\n",
    "LSI-model might be more suitable to problems, where finding all positive samples is critical, even with the risk of high number of false positives.\n",
    "\n",
    "Regex is a naive model, and as such it does not lead to good scores. However, with more structured documents and more refined search keys it could have better scores. It remains however, a static model. \n",
    "\n",
    "We will later on add more models as a comparison."
   ]
  },
  {
   "cell_type": "code",
   "execution_count": null,
   "metadata": {},
   "outputs": [],
   "source": []
  }
 ],
 "metadata": {
  "kernelspec": {
   "display_name": "Python 3",
   "language": "python",
   "name": "python3"
  },
  "language_info": {
   "codemirror_mode": {
    "name": "ipython",
    "version": 3
   },
   "file_extension": ".py",
   "mimetype": "text/x-python",
   "name": "python",
   "nbconvert_exporter": "python",
   "pygments_lexer": "ipython3",
   "version": "3.6.9"
  }
 },
 "nbformat": 4,
 "nbformat_minor": 4
}
